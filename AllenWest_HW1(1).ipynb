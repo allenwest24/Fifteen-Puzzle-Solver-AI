{
  "nbformat": 4,
  "nbformat_minor": 0,
  "metadata": {
    "colab": {
      "name": "AllenWest_HW1.ipynb",
      "provenance": [],
      "collapsed_sections": []
    },
    "kernelspec": {
      "name": "python3",
      "display_name": "Python 3"
    }
  },
  "cells": [
    {
      "cell_type": "markdown",
      "metadata": {
        "id": "wQcsYUGrsAe2"
      },
      "source": [
        "# A*, Heuristics, and the Fifteen Puzzle"
      ]
    },
    {
      "cell_type": "markdown",
      "metadata": {
        "id": "xY7Fg-Uxrebh"
      },
      "source": [
        "In this project, we demonstrate abstracting a problem into a search problem, implementing the A* search algorithm (still the most common way of doing pathfinding in video games), and experimenting with the effects of using different heuristics for the search."
      ]
    },
    {
      "cell_type": "markdown",
      "metadata": {
        "id": "CbmdWt8xtWPR"
      },
      "source": [
        "The goal of a fifteen puzzle is to get all fifteen tiles in order from left to right, top to bottom, like so:\n",
        "\n",
        "1 2 3 4\n",
        "\n",
        "5 6 7 8\n",
        "\n",
        "9 10 11 12\n",
        "\n",
        "13 14 15 -\n",
        "\n",
        "The only legal moves are to move a tile adjacent to the blank into the blank space, making the tile’s previous space blank. Thus the maximum number of neighbors is 4, but the number of neighbors could be as small as 2 if the blank is in a corner.\n",
        "\n",
        "**1) Is a count of number of tiles out of place an admissible heuristic if the blank is not counted as a tile? What if the blank is counted as a tile? In each case, if the heuristic is admissible, explain how you know, and if it is not, give an example that shows the heuristic is inadmissible.**\n"
      ]
    },
    {
      "cell_type": "markdown",
      "metadata": {
        "id": "wuqscHWQtxoN"
      },
      "source": [
        "In the first scenario, where the blank space is not counted, the heuristic is admissible. This is because the number of tiles out of place is the number of tile that need to be moved. The empty space will get where it needs to be because if it is not where it needs to be, then at least one other piece will also be out of place. In the second scenario, it is inadmissible because you are overestimating the cost it takes to reach the goal. Take, for example, a simple one-move left example. If the 15 and blank tiles need to be switched, the heuristic would show that there are 2 out of place tiles as opposed to the one. "
      ]
    },
    {
      "cell_type": "code",
      "metadata": {
        "id": "mND5ggjAgUrn"
      },
      "source": [
        "\"\"\"Use A* to solve fifteen puzzle instances.\n",
        "\n",
        "The \"main\" of this code is solve_and_print, at the end.  We'll try two different\n",
        "heuristics, counting tiles out of place and summing Manhattan distance from\n",
        "the destination over all tiles (the better heuristic).\"\"\"\n",
        "\n",
        "import sys\n",
        "import copy\n",
        "import numpy as np\n",
        "from queue import PriorityQueue\n",
        "import math\n",
        "\n",
        "PUZZLE_WIDTH = 4\n",
        "BLANK = 0  # Integer comparison tends to be faster than string comparison\n",
        "\n",
        "def read_puzzle_string(puzzle_string):\n",
        "    \"\"\"Read a NumberPuzzle from string representation; space-delimited, blank is \"-\".\n",
        "\n",
        "    Args:\n",
        "      puzzle_string (string):  string representation of the puzzle\n",
        "\n",
        "    Returns:\n",
        "      A NumberPuzzle\n",
        "    \"\"\"\n",
        "    new_puzzle = NumberPuzzle()\n",
        "    row = 0\n",
        "    for line in puzzle_string.splitlines():\n",
        "        tokens = line.split()\n",
        "        for i in range(PUZZLE_WIDTH):\n",
        "            if tokens[i] == '-':\n",
        "                new_puzzle.tiles[row][i] = BLANK\n",
        "                new_puzzle.blank_r = row\n",
        "                new_puzzle.blank_c = i\n",
        "            else:\n",
        "                try:\n",
        "                    new_puzzle.tiles[row][i] = int(tokens[i])\n",
        "                except ValueError:\n",
        "                    sys.exit(\"Found unexpected non-integer for tile value\")\n",
        "        row += 1\n",
        "    return new_puzzle\n",
        "\n",
        "class NumberPuzzle(object):\n",
        "    \"\"\" Class containing the state of the puzzle, as well as A* bookkeeping info.\n",
        "\n",
        "    Attributes:\n",
        "        tiles (numpy array): 2D array of ints for tiles.\n",
        "        blank_r (int):  Row of the blank, for easy identification of neighbors\n",
        "        blank_c (int):  Column of blank, same reason\n",
        "        parent (NumberPuzzle):  Reference to previous puzzle, for backtracking later\n",
        "        dist_from_start (int):  Steps taken from start of puzzle to here\n",
        "        key (int or float):  Key for priority queue to determine which puzzle is next\n",
        "    \"\"\"\n",
        "\n",
        "    def __init__(self):\n",
        "        \"\"\" Just return zeros for everything and fill in the tile array later\"\"\"\n",
        "        self.tiles = np.zeros((PUZZLE_WIDTH, PUZZLE_WIDTH))\n",
        "        self.blank_r = 0\n",
        "        self.blank_c = 0\n",
        "        # This next field is for our convenience when generating a solution\n",
        "        # -- remember which puzzle was the move before\n",
        "        self.parent = None\n",
        "        self.dist_from_start = 0\n",
        "        self.key = 0\n",
        "\n",
        "    def __str__(self):\n",
        "        \"\"\"This is the Python equivalent of Java's toString().\"\"\"\n",
        "        out = \"\"\n",
        "        for i in range(PUZZLE_WIDTH):\n",
        "            for j in range(PUZZLE_WIDTH):\n",
        "                if j > 0:\n",
        "                    out += \" \"\n",
        "                if self.tiles[i][j] == BLANK:\n",
        "                    out += \"-\"\n",
        "                else:\n",
        "                    out += str(int(self.tiles[i][j]))\n",
        "            out += \"\\n\"\n",
        "        return out\n",
        "\n",
        "    def copy(self):\n",
        "        \"\"\"Copy the puzzle and update the parent field.\n",
        "        \n",
        "        In A* search, we generally want to copy instead of destructively alter,\n",
        "        since we're not backtracking so much as jumping around the search tree.\n",
        "        Also, if A and B are numpy arrays, \"A = B\" only passes a reference to B.\n",
        "        We'll also use this to tell the child we're its parent.\"\"\"\n",
        "        child = NumberPuzzle()\n",
        "        child.tiles = np.copy(self.tiles)\n",
        "        child.blank_r = self.blank_r\n",
        "        child.blank_c = self.blank_c\n",
        "        child.dist_from_start = self.dist_from_start\n",
        "        child.parent = self\n",
        "        return child\n",
        "\n",
        "    def __eq__(self, other):\n",
        "        \"\"\"Governs behavior of ==.\n",
        "        \n",
        "        Overrides == for this object so that we can compare by tile arrangement\n",
        "        instead of reference.  This is going to be pretty common, so we'll skip\n",
        "        a type check on \"other\" for a modest speed increase\"\"\"\n",
        "        return np.array_equal(self.tiles, other.tiles)\n",
        "\n",
        "    def __hash__(self):\n",
        "        \"\"\"Generate a code for hash-based data structures.\n",
        "        \n",
        "        Hash function necessary for inclusion in a set -- unique \"name\"\n",
        "        for this object -- we'll just hash the bytes of the 2D array\"\"\"\n",
        "        return hash(bytes(self.tiles))\n",
        "\n",
        "    def __lt__(self, obj):\n",
        "        \"\"\"Governs behavior of <, and more importantly, the priority queue.\n",
        "        \n",
        "        Override less-than so that we can put these in a priority queue\n",
        "        with no problem.  We don't want to recompute the heuristic here,\n",
        "        though -- that would be too slow to do it every time we need to\n",
        "        reorganize the priority queue\"\"\"\n",
        "        return self.key < obj.key\n",
        "\n",
        "    def total_h(self, better_h):\n",
        "        \"\"\"A* cost:  admissible heuristic plus cost-so-far.\n",
        "\n",
        "        Args:\n",
        "            better_h (boolean):  True for Manhattan distance, false for counting tiles.\n",
        "          \n",
        "        Returns:\n",
        "            A number representing the heuristic value (int or float)\n",
        "        \"\"\"\n",
        "        return self.dist_from_start + self.heuristic(better_h)\n",
        "\n",
        "    def move(self, tile_row, tile_column):\n",
        "        \"\"\"Move from the row, column coordinates given into the blank.\n",
        "\n",
        "        Also very common, so we will also skip checks for legality to improve speed.\n",
        "\n",
        "        Args:\n",
        "            tile_row (int):  Row of the tile to move.\n",
        "            tile_column (int):  Column of the tile to move.\n",
        "        \"\"\"\n",
        "\n",
        "        self.tiles[self.blank_r][self.blank_c] = self.tiles[tile_row][tile_column]\n",
        "        self.tiles[tile_row][tile_column] = BLANK\n",
        "        self.blank_r = tile_row\n",
        "        self.blank_c = tile_column\n",
        "        self.dist_from_start += 1\n",
        "\n",
        "    def legal_moves(self):\n",
        "        \"\"\"Return a list of NumberPuzzle states that could result from one move.\n",
        "\n",
        "        Return a list of NumberPuzzle states that could result from one move\n",
        "        on the present board.  Use this to keep the order in which\n",
        "        moves are evaluated the same as our solution, thus matching the\n",
        "        HackerRank solution as well.  (Also notice we're still in the\n",
        "        methods of NumberPuzzle, hence the lack of arguments.)\n",
        "\n",
        "        Returns:\n",
        "            List of NumberPuzzles.\n",
        "        \"\"\"\n",
        "        legal = []\n",
        "        if self.blank_r > 0:\n",
        "            down_result = self.copy()\n",
        "            down_result.move(self.blank_r-1, self.blank_c)\n",
        "            legal.append(down_result)\n",
        "        if self.blank_c > 0:\n",
        "            right_result = self.copy()\n",
        "            right_result.move(self.blank_r, self.blank_c-1)\n",
        "            legal.append(right_result)\n",
        "        if self.blank_r < PUZZLE_WIDTH - 1:\n",
        "            up_result = self.copy()\n",
        "            up_result.move(self.blank_r+1, self.blank_c)\n",
        "            legal.append(up_result)\n",
        "        if self.blank_c < PUZZLE_WIDTH - 1:\n",
        "            left_result = self.copy()\n",
        "            left_result.move(self.blank_r, self.blank_c+1)\n",
        "            legal.append(left_result)\n",
        "        return legal\n",
        "\n",
        "    def solve(self, better_h):\n",
        "        \"\"\"Return a list of puzzle states from this state to solved.\n",
        "\n",
        "        Args:\n",
        "            better_h (boolean):  True if Manhattan heuristic, false if tile counting\n",
        "\n",
        "        Returns:\n",
        "            path (list of NumberPuzzle or None) - path from start state to finish state\n",
        "            explored - total number of nodes pulled from the priority queue\n",
        "        \"\"\"\n",
        "        # Initialize open and closed list then add starting node on the open list.\n",
        "        closed_list = set()\n",
        "        open_list = PriorityQueue()\n",
        "        open_list.put(self)\n",
        "\n",
        "        # Total number of nodes pulled from the priority q.\n",
        "        explored = 0\n",
        "\n",
        "        # While open list is not empty.\n",
        "        while open_list._qsize() != 0:\n",
        "          explored += 1\n",
        "\n",
        "          # Pull the current state and see it if requires more work.\n",
        "          state = open_list._get()\n",
        "          # Yes.\n",
        "          if state.solved():\n",
        "            goal_state = [state]\n",
        "            parent = state.parent\n",
        "            while parent is not None:\n",
        "              goal_state.insert(0, parent)\n",
        "              parent = parent.parent\n",
        "            return goal_state, explored\n",
        "          # No.\n",
        "          # If a node with the same position as the successor is in the closed\n",
        "          # list, skip the successor.\n",
        "          q = state.__hash__()\n",
        "          if q in closed_list:\n",
        "            continue\n",
        "\n",
        "          # Otherwise, add node to the open list.\n",
        "          # Push q onto the closed list.\n",
        "          for node in state.legal_moves():\n",
        "            node.key = node.heuristic(better_h) + node.dist_from_start\n",
        "            open_list.put(node)\n",
        "            node.parent = state\n",
        "          closed_list.add(q)\n",
        "\n",
        "        return None, explored\n",
        "\n",
        "    def solved(self):\n",
        "        \"\"\"\"Return True iff all tiles in order and blank in bottom right.\"\"\"\n",
        "        should_be = 1\n",
        "        for i in range(PUZZLE_WIDTH):\n",
        "            for j in range(PUZZLE_WIDTH):\n",
        "                if self.tiles[i][j] != should_be:\n",
        "                    return False\n",
        "                should_be = (should_be + 1) % (PUZZLE_WIDTH ** 2)\n",
        "        return True\n",
        "\n",
        "    def heuristic(self, better_h):\n",
        "        \"\"\"Wrapper for the two heuristic functions.\n",
        "\n",
        "        Args:\n",
        "            better_h (boolean):  True if Manhattan heuristic, false if tile counting\n",
        "\n",
        "        Returns:\n",
        "            Value of the cost-to-go heuristic (int or float)\n",
        "        \"\"\"\n",
        "        if better_h:\n",
        "            return self.manhattan_heuristic()\n",
        "        return self.tile_mismatch_heuristic()\n",
        "\n",
        "    def tile_mismatch_heuristic(self):\n",
        "        \"\"\"Returns count of tiles out of place.\n",
        "        \n",
        "        Can't count the blank or it's inadmissible.\"\"\"\n",
        "        mismatch_count = 0\n",
        "        # Completed. This was largely based on the solved() that returns a boolean.\n",
        "        # Just adapted to show all the reasons it is not solved. \n",
        "        should_be = 1\n",
        "        for ii in range(PUZZLE_WIDTH):\n",
        "            for jj in range(PUZZLE_WIDTH):\n",
        "                # Ignores the 0 tile in this line.\n",
        "                if self.tiles[ii][jj] != should_be and self.tiles[ii][jj] != 0:\n",
        "                    mismatch_count += 1\n",
        "                should_be = (should_be + 1) % (PUZZLE_WIDTH ** 2)\n",
        "        return mismatch_count\n",
        "\n",
        "    def manhattan_heuristic(self):\n",
        "        \"\"\"Returns total Manhattan (city block) distance from destination over all tiles.\n",
        "\n",
        "        Again, shouldn't count blank; it gets where it's going for free.\"\"\"\n",
        "        total_manhattan = 0\n",
        "        should_be = 1\n",
        "        x_offset = y_offset = 0\n",
        "        for ii in range(PUZZLE_WIDTH):\n",
        "            for jj in range(PUZZLE_WIDTH):\n",
        "                # Ignores the 0 tile in this line.\n",
        "                if self.tiles[ii][jj] != should_be and self.tiles[ii][jj] != 0:\n",
        "                  y_offset = abs(math.ceil(self.tiles[ii][jj] // 4) - ii)\n",
        "                  x_offset = abs((self.tiles[ii][jj] % 4) - jj)\n",
        "                  total_manhattan += x_offset + y_offset\n",
        "                should_be = (should_be + 1) % (PUZZLE_WIDTH ** 2)\n",
        "        return total_manhattan\n",
        "\n",
        "    def path_to_here(self):\n",
        "        \"\"\"Returns list of NumberPuzzles giving the move sequence to get here.\n",
        "        \n",
        "        Retraces steps to this node through the parent fields.\"\"\"\n",
        "        path = []\n",
        "        current = self\n",
        "        while not current is None:\n",
        "            path.insert(0, current)  # push\n",
        "            current = current.parent\n",
        "        return path\n",
        "\n",
        "def print_steps(path):\n",
        "    \"\"\" Print every puzzle in the path.\n",
        "\n",
        "    Args:\n",
        "        path (list of NumberPuzzle): list of puzzle states from start to finish\n",
        "    \"\"\"\n",
        "    if path is None:\n",
        "        print(\"No path found\")\n",
        "    else:\n",
        "        print(\"{} steps\".format(len(path)-1))\n",
        "        for state in path:\n",
        "            print(state)\n",
        "\n",
        "\n",
        "def solve_and_print(puzzle_string : str, better_h : bool) -> None:\n",
        "  \"\"\" \"Main\" - prints series of moves necessary to solve puzzle.\n",
        "\n",
        "  Args:\n",
        "    puzzle_string (string):  The puzzle to solve.\n",
        "    better_h (boolean):  True if Manhattan distance heuristic, false if tile count\n",
        "  \"\"\"\n",
        "  my_puzzle = read_puzzle_string(puzzle_string)\n",
        "  solution_steps, explored = my_puzzle.solve(better_h) \n",
        "  print(\"{} nodes explored\".format(explored))\n",
        "  print_steps(solution_steps)"
      ],
      "execution_count": null,
      "outputs": []
    },
    {
      "cell_type": "markdown",
      "metadata": {
        "id": "Kd84CkYIrJBA"
      },
      "source": [
        "In solve(), we implement A*, using a heuristic of “number of tiles in the wrong place” as the optimistic estimate of moves to go. To do this, we make use of two important data structures:\n",
        "\n",
        "• The queue of puzzle states to explore should be a PriorityQueue, already imported for you at the top. The __lt__() function for NumberPuzzle objects has already been overridden so that it compares the key field to decide what goes first, but that field is currently never initialized.\n",
        "\n",
        "• Use a set() to efficiently implement a \"closed list\" of states that have already been explored. Sets are hash tables, and the hashing behavior has already been implemented to work in an acceptable way.\n",
        "\n",
        "solve() should return a list of NumberPuzzles that show the states from the beginning to the end, as well as an integer count of the number of nodes explored (that is, pulled from the front of the priority queue).  The latter is to help you debug and help us grade, although there is some \"wiggle room\" for reasonable differences in implementation.\n",
        "\n"
      ]
    },
    {
      "cell_type": "code",
      "metadata": {
        "id": "A4XBKObXohi6"
      },
      "source": [
        "zero_moves = \"\"\"1 2 3 4\n",
        "5 6 7 8\n",
        "9 10 11 12\n",
        "13 14 15 -\"\"\"\n",
        "\n",
        "one_move = \"\"\"1 2 3 4\n",
        "5 6 7 8\n",
        "9 10 11 12\n",
        "13 14 - 15\"\"\"\n",
        "\n",
        "six_moves = \"\"\"1 2 3 4\n",
        "5 10 6 8\n",
        "- 9 7 12\n",
        "13 14 11 15\"\"\"\n",
        "\n",
        "sixteen_moves = \"\"\"10 2 4 8\n",
        "1 5 3 -\n",
        "9 7 6 12\n",
        "13 14 11 15\"\"\"\n",
        "\n",
        "forty_moves = \"\"\"4 3 - 11\n",
        "2 1 6 8\n",
        "13 9 7 15\n",
        "10 14 12 5\"\"\"\n",
        "\n"
      ],
      "execution_count": null,
      "outputs": []
    },
    {
      "cell_type": "code",
      "metadata": {
        "id": "gJ2Tgs24oqz1",
        "colab": {
          "base_uri": "https://localhost:8080/"
        },
        "outputId": "e2bcafca-cd56-4a21-e4c7-979c02a43ce2"
      },
      "source": [
        "solve_and_print(zero_moves, False)"
      ],
      "execution_count": null,
      "outputs": [
        {
          "output_type": "stream",
          "name": "stdout",
          "text": [
            "1 nodes explored\n",
            "0 steps\n",
            "1 2 3 4\n",
            "5 6 7 8\n",
            "9 10 11 12\n",
            "13 14 15 -\n",
            "\n"
          ]
        }
      ]
    },
    {
      "cell_type": "code",
      "metadata": {
        "id": "zYdtDENIvGhV",
        "colab": {
          "base_uri": "https://localhost:8080/"
        },
        "outputId": "4c070d98-5423-4f87-c43d-f8bdd9ddc783"
      },
      "source": [
        "solve_and_print(one_move, False)"
      ],
      "execution_count": null,
      "outputs": [
        {
          "output_type": "stream",
          "name": "stdout",
          "text": [
            "2 nodes explored\n",
            "1 steps\n",
            "1 2 3 4\n",
            "5 6 7 8\n",
            "9 10 11 12\n",
            "13 14 - 15\n",
            "\n",
            "1 2 3 4\n",
            "5 6 7 8\n",
            "9 10 11 12\n",
            "13 14 15 -\n",
            "\n"
          ]
        }
      ]
    },
    {
      "cell_type": "code",
      "metadata": {
        "id": "ELZ1rnw7vMky",
        "colab": {
          "base_uri": "https://localhost:8080/"
        },
        "outputId": "62838dc5-c343-405a-e021-21dac2df1a45"
      },
      "source": [
        "solve_and_print(six_moves, False)"
      ],
      "execution_count": null,
      "outputs": [
        {
          "output_type": "stream",
          "name": "stdout",
          "text": [
            "7 nodes explored\n",
            "6 steps\n",
            "1 2 3 4\n",
            "5 10 6 8\n",
            "- 9 7 12\n",
            "13 14 11 15\n",
            "\n",
            "1 2 3 4\n",
            "5 10 6 8\n",
            "9 - 7 12\n",
            "13 14 11 15\n",
            "\n",
            "1 2 3 4\n",
            "5 - 6 8\n",
            "9 10 7 12\n",
            "13 14 11 15\n",
            "\n",
            "1 2 3 4\n",
            "5 6 - 8\n",
            "9 10 7 12\n",
            "13 14 11 15\n",
            "\n",
            "1 2 3 4\n",
            "5 6 7 8\n",
            "9 10 - 12\n",
            "13 14 11 15\n",
            "\n",
            "1 2 3 4\n",
            "5 6 7 8\n",
            "9 10 11 12\n",
            "13 14 - 15\n",
            "\n",
            "1 2 3 4\n",
            "5 6 7 8\n",
            "9 10 11 12\n",
            "13 14 15 -\n",
            "\n"
          ]
        }
      ]
    },
    {
      "cell_type": "markdown",
      "metadata": {
        "id": "oUItsnVLvcdT"
      },
      "source": [
        "**3) Now we time our implementation on sixteen_moves**, using the handy Google Colab syntax demonstrated here."
      ]
    },
    {
      "cell_type": "code",
      "metadata": {
        "id": "UpkPlcv_va_T",
        "colab": {
          "base_uri": "https://localhost:8080/"
        },
        "outputId": "cf2ab70f-6981-443c-f373-6d87a8f2065c"
      },
      "source": [
        "%time solve_and_print(sixteen_moves, False)"
      ],
      "execution_count": null,
      "outputs": [
        {
          "output_type": "stream",
          "name": "stdout",
          "text": [
            "398 nodes explored\n",
            "16 steps\n",
            "10 2 4 8\n",
            "1 5 3 -\n",
            "9 7 6 12\n",
            "13 14 11 15\n",
            "\n",
            "10 2 4 -\n",
            "1 5 3 8\n",
            "9 7 6 12\n",
            "13 14 11 15\n",
            "\n",
            "10 2 - 4\n",
            "1 5 3 8\n",
            "9 7 6 12\n",
            "13 14 11 15\n",
            "\n",
            "10 - 2 4\n",
            "1 5 3 8\n",
            "9 7 6 12\n",
            "13 14 11 15\n",
            "\n",
            "- 10 2 4\n",
            "1 5 3 8\n",
            "9 7 6 12\n",
            "13 14 11 15\n",
            "\n",
            "1 10 2 4\n",
            "- 5 3 8\n",
            "9 7 6 12\n",
            "13 14 11 15\n",
            "\n",
            "1 10 2 4\n",
            "5 - 3 8\n",
            "9 7 6 12\n",
            "13 14 11 15\n",
            "\n",
            "1 - 2 4\n",
            "5 10 3 8\n",
            "9 7 6 12\n",
            "13 14 11 15\n",
            "\n",
            "1 2 - 4\n",
            "5 10 3 8\n",
            "9 7 6 12\n",
            "13 14 11 15\n",
            "\n",
            "1 2 3 4\n",
            "5 10 - 8\n",
            "9 7 6 12\n",
            "13 14 11 15\n",
            "\n",
            "1 2 3 4\n",
            "5 10 6 8\n",
            "9 7 - 12\n",
            "13 14 11 15\n",
            "\n",
            "1 2 3 4\n",
            "5 10 6 8\n",
            "9 - 7 12\n",
            "13 14 11 15\n",
            "\n",
            "1 2 3 4\n",
            "5 - 6 8\n",
            "9 10 7 12\n",
            "13 14 11 15\n",
            "\n",
            "1 2 3 4\n",
            "5 6 - 8\n",
            "9 10 7 12\n",
            "13 14 11 15\n",
            "\n",
            "1 2 3 4\n",
            "5 6 7 8\n",
            "9 10 - 12\n",
            "13 14 11 15\n",
            "\n",
            "1 2 3 4\n",
            "5 6 7 8\n",
            "9 10 11 12\n",
            "13 14 - 15\n",
            "\n",
            "1 2 3 4\n",
            "5 6 7 8\n",
            "9 10 11 12\n",
            "13 14 15 -\n",
            "\n",
            "CPU times: user 39.6 ms, sys: 1.99 ms, total: 41.6 ms\n",
            "Wall time: 44 ms\n"
          ]
        }
      ]
    },
    {
      "cell_type": "markdown",
      "metadata": {
        "id": "4PcHJokJxG1o"
      },
      "source": [
        "**4) The Manhattan distance of a tile from its final location is the sum of the difference in rows and the difference in columns. If the blank does not count as a tile, does the sum of Manhattan distances from their final locations over all tiles act as an admissible heuristic? What if the blank does count as a tile? In each case, if the heuristic is admissible, explain how you know, and if it is not, give an example that shows the heuristic is inadmissible.**"
      ]
    },
    {
      "cell_type": "markdown",
      "metadata": {
        "id": "eqXdQR3oxNo3"
      },
      "source": [
        "Like in question one, we don't count the space because it gets where it is going for free. when moving all other tiles and not considering the work required to get 0 back, the work for 0 to finish in the right spot gets accomplished, therefore, to include it in the heuristic would be over estimating the work and would make it inadmissable. If you consider the test case with 6 moves you can see how it messes up the heuristic based on where the empty space is. If you ignore it, however, you get the otpimal solution."
      ]
    },
    {
      "cell_type": "markdown",
      "metadata": {
        "id": "6TOyRX9OxUz2"
      },
      "source": [
        "Now, we implement Manhattan distance as a new heuristic. We keep our old heuristic, but have the code use the old heuristic if the better_h argument is False, and use the new heuristic if better_h is True.  Now we will time the new code."
      ]
    },
    {
      "cell_type": "code",
      "metadata": {
        "id": "eYforT9Ix3CV",
        "colab": {
          "base_uri": "https://localhost:8080/"
        },
        "outputId": "8df3451b-16b8-4289-f5ee-b22d3b349789"
      },
      "source": [
        "%time solve_and_print(sixteen_moves, True)"
      ],
      "execution_count": null,
      "outputs": [
        {
          "output_type": "stream",
          "name": "stdout",
          "text": [
            "70 nodes explored\n",
            "16 steps\n",
            "10 2 4 8\n",
            "1 5 3 -\n",
            "9 7 6 12\n",
            "13 14 11 15\n",
            "\n",
            "10 2 4 -\n",
            "1 5 3 8\n",
            "9 7 6 12\n",
            "13 14 11 15\n",
            "\n",
            "10 2 - 4\n",
            "1 5 3 8\n",
            "9 7 6 12\n",
            "13 14 11 15\n",
            "\n",
            "10 - 2 4\n",
            "1 5 3 8\n",
            "9 7 6 12\n",
            "13 14 11 15\n",
            "\n",
            "- 10 2 4\n",
            "1 5 3 8\n",
            "9 7 6 12\n",
            "13 14 11 15\n",
            "\n",
            "1 10 2 4\n",
            "- 5 3 8\n",
            "9 7 6 12\n",
            "13 14 11 15\n",
            "\n",
            "1 10 2 4\n",
            "5 - 3 8\n",
            "9 7 6 12\n",
            "13 14 11 15\n",
            "\n",
            "1 - 2 4\n",
            "5 10 3 8\n",
            "9 7 6 12\n",
            "13 14 11 15\n",
            "\n",
            "1 2 - 4\n",
            "5 10 3 8\n",
            "9 7 6 12\n",
            "13 14 11 15\n",
            "\n",
            "1 2 3 4\n",
            "5 10 - 8\n",
            "9 7 6 12\n",
            "13 14 11 15\n",
            "\n",
            "1 2 3 4\n",
            "5 10 6 8\n",
            "9 7 - 12\n",
            "13 14 11 15\n",
            "\n",
            "1 2 3 4\n",
            "5 10 6 8\n",
            "9 - 7 12\n",
            "13 14 11 15\n",
            "\n",
            "1 2 3 4\n",
            "5 - 6 8\n",
            "9 10 7 12\n",
            "13 14 11 15\n",
            "\n",
            "1 2 3 4\n",
            "5 6 - 8\n",
            "9 10 7 12\n",
            "13 14 11 15\n",
            "\n",
            "1 2 3 4\n",
            "5 6 7 8\n",
            "9 10 - 12\n",
            "13 14 11 15\n",
            "\n",
            "1 2 3 4\n",
            "5 6 7 8\n",
            "9 10 11 12\n",
            "13 14 - 15\n",
            "\n",
            "1 2 3 4\n",
            "5 6 7 8\n",
            "9 10 11 12\n",
            "13 14 15 -\n",
            "\n",
            "CPU times: user 18.5 ms, sys: 3.05 ms, total: 21.6 ms\n",
            "Wall time: 23.5 ms\n"
          ]
        }
      ]
    },
    {
      "cell_type": "code",
      "metadata": {
        "id": "LsA6Y3XoyfGu",
        "colab": {
          "base_uri": "https://localhost:8080/",
          "height": 398
        },
        "outputId": "6e99e1af-f3a5-43fa-9053-bf72c854f18f"
      },
      "source": [
        "%time solve_and_print(forty_moves, True)"
      ],
      "execution_count": null,
      "outputs": [
        {
          "output_type": "error",
          "ename": "KeyboardInterrupt",
          "evalue": "ignored",
          "traceback": [
            "\u001b[0;31m---------------------------------------------------------------------------\u001b[0m",
            "\u001b[0;31mKeyboardInterrupt\u001b[0m                         Traceback (most recent call last)",
            "\u001b[0;32m<ipython-input-54-500484674df1>\u001b[0m in \u001b[0;36m<module>\u001b[0;34m()\u001b[0m\n\u001b[0;32m----> 1\u001b[0;31m \u001b[0mget_ipython\u001b[0m\u001b[0;34m(\u001b[0m\u001b[0;34m)\u001b[0m\u001b[0;34m.\u001b[0m\u001b[0mmagic\u001b[0m\u001b[0;34m(\u001b[0m\u001b[0;34m'time solve_and_print(forty_moves, True)'\u001b[0m\u001b[0;34m)\u001b[0m\u001b[0;34m\u001b[0m\u001b[0;34m\u001b[0m\u001b[0m\n\u001b[0m",
            "\u001b[0;32m/usr/local/lib/python3.7/dist-packages/IPython/core/interactiveshell.py\u001b[0m in \u001b[0;36mmagic\u001b[0;34m(self, arg_s)\u001b[0m\n\u001b[1;32m   2158\u001b[0m         \u001b[0mmagic_name\u001b[0m\u001b[0;34m,\u001b[0m \u001b[0m_\u001b[0m\u001b[0;34m,\u001b[0m \u001b[0mmagic_arg_s\u001b[0m \u001b[0;34m=\u001b[0m \u001b[0marg_s\u001b[0m\u001b[0;34m.\u001b[0m\u001b[0mpartition\u001b[0m\u001b[0;34m(\u001b[0m\u001b[0;34m' '\u001b[0m\u001b[0;34m)\u001b[0m\u001b[0;34m\u001b[0m\u001b[0;34m\u001b[0m\u001b[0m\n\u001b[1;32m   2159\u001b[0m         \u001b[0mmagic_name\u001b[0m \u001b[0;34m=\u001b[0m \u001b[0mmagic_name\u001b[0m\u001b[0;34m.\u001b[0m\u001b[0mlstrip\u001b[0m\u001b[0;34m(\u001b[0m\u001b[0mprefilter\u001b[0m\u001b[0;34m.\u001b[0m\u001b[0mESC_MAGIC\u001b[0m\u001b[0;34m)\u001b[0m\u001b[0;34m\u001b[0m\u001b[0;34m\u001b[0m\u001b[0m\n\u001b[0;32m-> 2160\u001b[0;31m         \u001b[0;32mreturn\u001b[0m \u001b[0mself\u001b[0m\u001b[0;34m.\u001b[0m\u001b[0mrun_line_magic\u001b[0m\u001b[0;34m(\u001b[0m\u001b[0mmagic_name\u001b[0m\u001b[0;34m,\u001b[0m \u001b[0mmagic_arg_s\u001b[0m\u001b[0;34m)\u001b[0m\u001b[0;34m\u001b[0m\u001b[0;34m\u001b[0m\u001b[0m\n\u001b[0m\u001b[1;32m   2161\u001b[0m \u001b[0;34m\u001b[0m\u001b[0m\n\u001b[1;32m   2162\u001b[0m     \u001b[0;31m#-------------------------------------------------------------------------\u001b[0m\u001b[0;34m\u001b[0m\u001b[0;34m\u001b[0m\u001b[0;34m\u001b[0m\u001b[0m\n",
            "\u001b[0;32m/usr/local/lib/python3.7/dist-packages/IPython/core/interactiveshell.py\u001b[0m in \u001b[0;36mrun_line_magic\u001b[0;34m(self, magic_name, line)\u001b[0m\n\u001b[1;32m   2079\u001b[0m                 \u001b[0mkwargs\u001b[0m\u001b[0;34m[\u001b[0m\u001b[0;34m'local_ns'\u001b[0m\u001b[0;34m]\u001b[0m \u001b[0;34m=\u001b[0m \u001b[0msys\u001b[0m\u001b[0;34m.\u001b[0m\u001b[0m_getframe\u001b[0m\u001b[0;34m(\u001b[0m\u001b[0mstack_depth\u001b[0m\u001b[0;34m)\u001b[0m\u001b[0;34m.\u001b[0m\u001b[0mf_locals\u001b[0m\u001b[0;34m\u001b[0m\u001b[0;34m\u001b[0m\u001b[0m\n\u001b[1;32m   2080\u001b[0m             \u001b[0;32mwith\u001b[0m \u001b[0mself\u001b[0m\u001b[0;34m.\u001b[0m\u001b[0mbuiltin_trap\u001b[0m\u001b[0;34m:\u001b[0m\u001b[0;34m\u001b[0m\u001b[0;34m\u001b[0m\u001b[0m\n\u001b[0;32m-> 2081\u001b[0;31m                 \u001b[0mresult\u001b[0m \u001b[0;34m=\u001b[0m \u001b[0mfn\u001b[0m\u001b[0;34m(\u001b[0m\u001b[0;34m*\u001b[0m\u001b[0margs\u001b[0m\u001b[0;34m,\u001b[0m\u001b[0;34m**\u001b[0m\u001b[0mkwargs\u001b[0m\u001b[0;34m)\u001b[0m\u001b[0;34m\u001b[0m\u001b[0;34m\u001b[0m\u001b[0m\n\u001b[0m\u001b[1;32m   2082\u001b[0m             \u001b[0;32mreturn\u001b[0m \u001b[0mresult\u001b[0m\u001b[0;34m\u001b[0m\u001b[0;34m\u001b[0m\u001b[0m\n\u001b[1;32m   2083\u001b[0m \u001b[0;34m\u001b[0m\u001b[0m\n",
            "\u001b[0;32m<decorator-gen-53>\u001b[0m in \u001b[0;36mtime\u001b[0;34m(self, line, cell, local_ns)\u001b[0m\n",
            "\u001b[0;32m/usr/local/lib/python3.7/dist-packages/IPython/core/magic.py\u001b[0m in \u001b[0;36m<lambda>\u001b[0;34m(f, *a, **k)\u001b[0m\n\u001b[1;32m    186\u001b[0m     \u001b[0;31m# but it's overkill for just that one bit of state.\u001b[0m\u001b[0;34m\u001b[0m\u001b[0;34m\u001b[0m\u001b[0;34m\u001b[0m\u001b[0m\n\u001b[1;32m    187\u001b[0m     \u001b[0;32mdef\u001b[0m \u001b[0mmagic_deco\u001b[0m\u001b[0;34m(\u001b[0m\u001b[0marg\u001b[0m\u001b[0;34m)\u001b[0m\u001b[0;34m:\u001b[0m\u001b[0;34m\u001b[0m\u001b[0;34m\u001b[0m\u001b[0m\n\u001b[0;32m--> 188\u001b[0;31m         \u001b[0mcall\u001b[0m \u001b[0;34m=\u001b[0m \u001b[0;32mlambda\u001b[0m \u001b[0mf\u001b[0m\u001b[0;34m,\u001b[0m \u001b[0;34m*\u001b[0m\u001b[0ma\u001b[0m\u001b[0;34m,\u001b[0m \u001b[0;34m**\u001b[0m\u001b[0mk\u001b[0m\u001b[0;34m:\u001b[0m \u001b[0mf\u001b[0m\u001b[0;34m(\u001b[0m\u001b[0;34m*\u001b[0m\u001b[0ma\u001b[0m\u001b[0;34m,\u001b[0m \u001b[0;34m**\u001b[0m\u001b[0mk\u001b[0m\u001b[0;34m)\u001b[0m\u001b[0;34m\u001b[0m\u001b[0;34m\u001b[0m\u001b[0m\n\u001b[0m\u001b[1;32m    189\u001b[0m \u001b[0;34m\u001b[0m\u001b[0m\n\u001b[1;32m    190\u001b[0m         \u001b[0;32mif\u001b[0m \u001b[0mcallable\u001b[0m\u001b[0;34m(\u001b[0m\u001b[0marg\u001b[0m\u001b[0;34m)\u001b[0m\u001b[0;34m:\u001b[0m\u001b[0;34m\u001b[0m\u001b[0;34m\u001b[0m\u001b[0m\n",
            "\u001b[0;32m/usr/local/lib/python3.7/dist-packages/IPython/core/magics/execution.py\u001b[0m in \u001b[0;36mtime\u001b[0;34m(self, line, cell, local_ns)\u001b[0m\n\u001b[1;32m   1187\u001b[0m         \u001b[0;32mif\u001b[0m \u001b[0mmode\u001b[0m\u001b[0;34m==\u001b[0m\u001b[0;34m'eval'\u001b[0m\u001b[0;34m:\u001b[0m\u001b[0;34m\u001b[0m\u001b[0;34m\u001b[0m\u001b[0m\n\u001b[1;32m   1188\u001b[0m             \u001b[0mst\u001b[0m \u001b[0;34m=\u001b[0m \u001b[0mclock2\u001b[0m\u001b[0;34m(\u001b[0m\u001b[0;34m)\u001b[0m\u001b[0;34m\u001b[0m\u001b[0;34m\u001b[0m\u001b[0m\n\u001b[0;32m-> 1189\u001b[0;31m             \u001b[0mout\u001b[0m \u001b[0;34m=\u001b[0m \u001b[0meval\u001b[0m\u001b[0;34m(\u001b[0m\u001b[0mcode\u001b[0m\u001b[0;34m,\u001b[0m \u001b[0mglob\u001b[0m\u001b[0;34m,\u001b[0m \u001b[0mlocal_ns\u001b[0m\u001b[0;34m)\u001b[0m\u001b[0;34m\u001b[0m\u001b[0;34m\u001b[0m\u001b[0m\n\u001b[0m\u001b[1;32m   1190\u001b[0m             \u001b[0mend\u001b[0m \u001b[0;34m=\u001b[0m \u001b[0mclock2\u001b[0m\u001b[0;34m(\u001b[0m\u001b[0;34m)\u001b[0m\u001b[0;34m\u001b[0m\u001b[0;34m\u001b[0m\u001b[0m\n\u001b[1;32m   1191\u001b[0m         \u001b[0;32melse\u001b[0m\u001b[0;34m:\u001b[0m\u001b[0;34m\u001b[0m\u001b[0;34m\u001b[0m\u001b[0m\n",
            "\u001b[0;32m<timed eval>\u001b[0m in \u001b[0;36m<module>\u001b[0;34m()\u001b[0m\n",
            "\u001b[0;32m<ipython-input-47-076a2289f101>\u001b[0m in \u001b[0;36msolve_and_print\u001b[0;34m(puzzle_string, better_h)\u001b[0m\n\u001b[1;32m    312\u001b[0m   \"\"\"\n\u001b[1;32m    313\u001b[0m   \u001b[0mmy_puzzle\u001b[0m \u001b[0;34m=\u001b[0m \u001b[0mread_puzzle_string\u001b[0m\u001b[0;34m(\u001b[0m\u001b[0mpuzzle_string\u001b[0m\u001b[0;34m)\u001b[0m\u001b[0;34m\u001b[0m\u001b[0;34m\u001b[0m\u001b[0m\n\u001b[0;32m--> 314\u001b[0;31m   \u001b[0msolution_steps\u001b[0m\u001b[0;34m,\u001b[0m \u001b[0mexplored\u001b[0m \u001b[0;34m=\u001b[0m \u001b[0mmy_puzzle\u001b[0m\u001b[0;34m.\u001b[0m\u001b[0msolve\u001b[0m\u001b[0;34m(\u001b[0m\u001b[0mbetter_h\u001b[0m\u001b[0;34m)\u001b[0m\u001b[0;34m\u001b[0m\u001b[0;34m\u001b[0m\u001b[0m\n\u001b[0m\u001b[1;32m    315\u001b[0m   \u001b[0mprint\u001b[0m\u001b[0;34m(\u001b[0m\u001b[0;34m\"{} nodes explored\"\u001b[0m\u001b[0;34m.\u001b[0m\u001b[0mformat\u001b[0m\u001b[0;34m(\u001b[0m\u001b[0mexplored\u001b[0m\u001b[0;34m)\u001b[0m\u001b[0;34m)\u001b[0m\u001b[0;34m\u001b[0m\u001b[0;34m\u001b[0m\u001b[0m\n\u001b[1;32m    316\u001b[0m   \u001b[0mprint_steps\u001b[0m\u001b[0;34m(\u001b[0m\u001b[0msolution_steps\u001b[0m\u001b[0;34m)\u001b[0m\u001b[0;34m\u001b[0m\u001b[0;34m\u001b[0m\u001b[0m\n",
            "\u001b[0;32m<ipython-input-47-076a2289f101>\u001b[0m in \u001b[0;36msolve\u001b[0;34m(self, better_h)\u001b[0m\n\u001b[1;32m    216\u001b[0m           \u001b[0;31m# Push q onto the closed list.\u001b[0m\u001b[0;34m\u001b[0m\u001b[0;34m\u001b[0m\u001b[0;34m\u001b[0m\u001b[0m\n\u001b[1;32m    217\u001b[0m           \u001b[0;32mfor\u001b[0m \u001b[0mnode\u001b[0m \u001b[0;32min\u001b[0m \u001b[0mstate\u001b[0m\u001b[0;34m.\u001b[0m\u001b[0mlegal_moves\u001b[0m\u001b[0;34m(\u001b[0m\u001b[0;34m)\u001b[0m\u001b[0;34m:\u001b[0m\u001b[0;34m\u001b[0m\u001b[0;34m\u001b[0m\u001b[0m\n\u001b[0;32m--> 218\u001b[0;31m             \u001b[0mnode\u001b[0m\u001b[0;34m.\u001b[0m\u001b[0mkey\u001b[0m \u001b[0;34m=\u001b[0m \u001b[0mnode\u001b[0m\u001b[0;34m.\u001b[0m\u001b[0mheuristic\u001b[0m\u001b[0;34m(\u001b[0m\u001b[0mbetter_h\u001b[0m\u001b[0;34m)\u001b[0m \u001b[0;34m+\u001b[0m \u001b[0mnode\u001b[0m\u001b[0;34m.\u001b[0m\u001b[0mdist_from_start\u001b[0m\u001b[0;34m\u001b[0m\u001b[0;34m\u001b[0m\u001b[0m\n\u001b[0m\u001b[1;32m    219\u001b[0m             \u001b[0mopen_list\u001b[0m\u001b[0;34m.\u001b[0m\u001b[0mput\u001b[0m\u001b[0;34m(\u001b[0m\u001b[0mnode\u001b[0m\u001b[0;34m)\u001b[0m\u001b[0;34m\u001b[0m\u001b[0;34m\u001b[0m\u001b[0m\n\u001b[1;32m    220\u001b[0m             \u001b[0mnode\u001b[0m\u001b[0;34m.\u001b[0m\u001b[0mparent\u001b[0m \u001b[0;34m=\u001b[0m \u001b[0mstate\u001b[0m\u001b[0;34m\u001b[0m\u001b[0;34m\u001b[0m\u001b[0m\n",
            "\u001b[0;32m<ipython-input-47-076a2289f101>\u001b[0m in \u001b[0;36mheuristic\u001b[0;34m(self, better_h)\u001b[0m\n\u001b[1;32m    243\u001b[0m         \"\"\"\n\u001b[1;32m    244\u001b[0m         \u001b[0;32mif\u001b[0m \u001b[0mbetter_h\u001b[0m\u001b[0;34m:\u001b[0m\u001b[0;34m\u001b[0m\u001b[0;34m\u001b[0m\u001b[0m\n\u001b[0;32m--> 245\u001b[0;31m             \u001b[0;32mreturn\u001b[0m \u001b[0mself\u001b[0m\u001b[0;34m.\u001b[0m\u001b[0mmanhattan_heuristic\u001b[0m\u001b[0;34m(\u001b[0m\u001b[0;34m)\u001b[0m\u001b[0;34m\u001b[0m\u001b[0;34m\u001b[0m\u001b[0m\n\u001b[0m\u001b[1;32m    246\u001b[0m         \u001b[0;32mreturn\u001b[0m \u001b[0mself\u001b[0m\u001b[0;34m.\u001b[0m\u001b[0mtile_mismatch_heuristic\u001b[0m\u001b[0;34m(\u001b[0m\u001b[0;34m)\u001b[0m\u001b[0;34m\u001b[0m\u001b[0;34m\u001b[0m\u001b[0m\n\u001b[1;32m    247\u001b[0m \u001b[0;34m\u001b[0m\u001b[0m\n",
            "\u001b[0;32m<ipython-input-47-076a2289f101>\u001b[0m in \u001b[0;36mmanhattan_heuristic\u001b[0;34m(self)\u001b[0m\n\u001b[1;32m    272\u001b[0m             \u001b[0;32mfor\u001b[0m \u001b[0mjj\u001b[0m \u001b[0;32min\u001b[0m \u001b[0mrange\u001b[0m\u001b[0;34m(\u001b[0m\u001b[0mPUZZLE_WIDTH\u001b[0m\u001b[0;34m)\u001b[0m\u001b[0;34m:\u001b[0m\u001b[0;34m\u001b[0m\u001b[0;34m\u001b[0m\u001b[0m\n\u001b[1;32m    273\u001b[0m                 \u001b[0;31m# Ignores the 0 tile in this line.\u001b[0m\u001b[0;34m\u001b[0m\u001b[0;34m\u001b[0m\u001b[0;34m\u001b[0m\u001b[0m\n\u001b[0;32m--> 274\u001b[0;31m                 \u001b[0;32mif\u001b[0m \u001b[0mself\u001b[0m\u001b[0;34m.\u001b[0m\u001b[0mtiles\u001b[0m\u001b[0;34m[\u001b[0m\u001b[0mii\u001b[0m\u001b[0;34m]\u001b[0m\u001b[0;34m[\u001b[0m\u001b[0mjj\u001b[0m\u001b[0;34m]\u001b[0m \u001b[0;34m!=\u001b[0m \u001b[0mshould_be\u001b[0m \u001b[0;32mand\u001b[0m \u001b[0mself\u001b[0m\u001b[0;34m.\u001b[0m\u001b[0mtiles\u001b[0m\u001b[0;34m[\u001b[0m\u001b[0mii\u001b[0m\u001b[0;34m]\u001b[0m\u001b[0;34m[\u001b[0m\u001b[0mjj\u001b[0m\u001b[0;34m]\u001b[0m \u001b[0;34m!=\u001b[0m \u001b[0;36m0\u001b[0m\u001b[0;34m:\u001b[0m\u001b[0;34m\u001b[0m\u001b[0;34m\u001b[0m\u001b[0m\n\u001b[0m\u001b[1;32m    275\u001b[0m                   \u001b[0my_offset\u001b[0m \u001b[0;34m=\u001b[0m \u001b[0mabs\u001b[0m\u001b[0;34m(\u001b[0m\u001b[0mmath\u001b[0m\u001b[0;34m.\u001b[0m\u001b[0mceil\u001b[0m\u001b[0;34m(\u001b[0m\u001b[0mself\u001b[0m\u001b[0;34m.\u001b[0m\u001b[0mtiles\u001b[0m\u001b[0;34m[\u001b[0m\u001b[0mii\u001b[0m\u001b[0;34m]\u001b[0m\u001b[0;34m[\u001b[0m\u001b[0mjj\u001b[0m\u001b[0;34m]\u001b[0m \u001b[0;34m//\u001b[0m \u001b[0;36m4\u001b[0m\u001b[0;34m)\u001b[0m \u001b[0;34m-\u001b[0m \u001b[0mii\u001b[0m\u001b[0;34m)\u001b[0m\u001b[0;34m\u001b[0m\u001b[0;34m\u001b[0m\u001b[0m\n\u001b[1;32m    276\u001b[0m                   \u001b[0mx_offset\u001b[0m \u001b[0;34m=\u001b[0m \u001b[0mabs\u001b[0m\u001b[0;34m(\u001b[0m\u001b[0;34m(\u001b[0m\u001b[0mself\u001b[0m\u001b[0;34m.\u001b[0m\u001b[0mtiles\u001b[0m\u001b[0;34m[\u001b[0m\u001b[0mii\u001b[0m\u001b[0;34m]\u001b[0m\u001b[0;34m[\u001b[0m\u001b[0mjj\u001b[0m\u001b[0;34m]\u001b[0m \u001b[0;34m%\u001b[0m \u001b[0;36m4\u001b[0m\u001b[0;34m)\u001b[0m \u001b[0;34m-\u001b[0m \u001b[0mjj\u001b[0m\u001b[0;34m)\u001b[0m\u001b[0;34m\u001b[0m\u001b[0;34m\u001b[0m\u001b[0m\n",
            "\u001b[0;31mKeyboardInterrupt\u001b[0m: "
          ]
        }
      ]
    },
    {
      "cell_type": "markdown",
      "metadata": {
        "id": "GsA_O7Iny7TC"
      },
      "source": [
        "**7) Suppose you decide to try out Euclidean distance, $\\sqrt{r^2 + c^2}$ where r and c are the row and column differences, as a heuristic.  It runs faster than tiles displaced, but slower than Manhattan distance.  Why?  (Assume it's not the slowness of square root operations, or anything like that.)**"
      ]
    },
    {
      "cell_type": "markdown",
      "metadata": {
        "id": "LK3KnxEwzP68"
      },
      "source": [
        "The manhattan distance was faster than the number of displaced tiles because it more acurately represents the amount of work to be done by how far away the misplaced tiles actually are. This allows the heuristic to choose its moves better. Similarly, euclidian also represents the amount of work better than number of tiles misplaced, but due to the restraints of the game, misrepresents the work based on the moves allowed. This is why manhattan distance is faster. While manhattan distance will be larger than the euclidian distance, it will be more accurate and will allow for better choices to be made."
      ]
    },
    {
      "cell_type": "markdown",
      "metadata": {
        "id": "sQeAdTVfzVhO"
      },
      "source": [
        "**8) Suppose a bug caused you to calculate the Manhattan distance incorrectly, so that it only returned the number of rows away for each tile, ignoring columns.  Is this heuristic still going to return an optimal solution every time?  Why or why not?**"
      ]
    },
    {
      "cell_type": "markdown",
      "metadata": {
        "id": "GzdIch4l0Obt"
      },
      "source": [
        "It is possible that certain scenarios would produce an optimal solution, but definitely not every time. The reason for this is that the amount of work for each tile is not being properly represented, so any attempts to prioritize will be done with bad information. This will lead to some sub-optimal solutions."
      ]
    },
    {
      "cell_type": "markdown",
      "metadata": {
        "id": "Z5pgJIhsSqNA"
      },
      "source": [
        "**9) In some fifteen-puzzle implementations, you can slide not just one tile, but all tiles to one side of the blank into the blank space.  (For example, if the bottom row were - 13 14 15, one move could cause 13 14 15 -.) Are the tiles displaced and Manhattan distance heuristics admissible in that case?  If so, explain how you know.  If not, provide a heuristic that is admissible and can return at least 4 different values, and explain how you know it is admissible.  (Heuristics should not return values less than 0.  Hint:  Consider simple arithmetic to modify the existing heuristics.)**"
      ]
    },
    {
      "cell_type": "markdown",
      "metadata": {
        "id": "3mPKoQXITNI2"
      },
      "source": [
        "This new rule change would make the manhattan distance inadmissable. This is because it will be overestimating the amount of work that needs to be done by not taking into account this new rule. A newer heuristic could consider blocks of ordered tiles in the right row and instead of counting them separately, produce values of work based on what would happen if they moved as a singular unit. We would know that this would always be the right choice because the blocks have to stay next to each other in these cases. This would only work if they were in the right row already. The values returned could be 0, 1, 2, for moving left to right, and then tiles moving up and down or tiles not currently ordered in their row could be asessed the typical manhattan way. This would be admissible because instead of counting 3 for the block of [- 13 14 15], it would count 1, which is accurate according to the new rules."
      ]
    },
    {
      "cell_type": "markdown",
      "metadata": {
        "id": "HVqDc-Pm0bz7"
      },
      "source": [
        "A* is one of the most successful algorithms in the history of AI, a champ at what it does (as long as you can come up with a good heuristic), and is probably the most important AI technology for a modern game AI programmer to understand (because of all the pathfinding that goes on). It's a classic technique for a reason!"
      ]
    }
  ]
}